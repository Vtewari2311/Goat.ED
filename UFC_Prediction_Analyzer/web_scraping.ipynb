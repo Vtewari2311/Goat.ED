{
  "nbformat": 4,
  "nbformat_minor": 0,
  "metadata": {
    "colab": {
      "provenance": []
    },
    "kernelspec": {
      "name": "python3",
      "display_name": "Python 3"
    },
    "language_info": {
      "name": "python"
    }
  },
  "cells": [
    {
      "cell_type": "markdown",
      "source": [
        "# Importing Libraries"
      ],
      "metadata": {
        "id": "H8_eAhB8C0qN"
      }
    },
    {
      "cell_type": "code",
      "source": [
        "import time\n",
        "from src.createdata.preprocess import Preprocessor\n",
        "from src.createdata.scrape_fight_data import FightDataScraper\n",
        "from src.createdata.scrape_fighter_details import FighterDetailsScraper"
      ],
      "metadata": {
        "id": "Ps69YbzbDAOX"
      },
      "execution_count": null,
      "outputs": []
    },
    {
      "cell_type": "markdown",
      "source": [
        "# Measure time elapsed for fight data creation"
      ],
      "metadata": {
        "id": "7zz09_M8DJWA"
      }
    },
    {
      "cell_type": "code",
      "source": [
        "time_start = time.time()\n",
        "print(\"Creating fight data...\")\n",
        "fight_data_scraper = FightDataScraper()\n",
        "fight_data_scraper.create_fight_data_csv()\n",
        "print(f\"Elapsed time: {(time.time() - time_start):.2f} seconds\")"
      ],
      "metadata": {
        "id": "ED67bG3BDIer"
      },
      "execution_count": null,
      "outputs": []
    },
    {
      "cell_type": "markdown",
      "source": [
        "# Measure time elapsed for fighter data creation"
      ],
      "metadata": {
        "id": "nY2A48SNDSBl"
      }
    },
    {
      "cell_type": "code",
      "source": [
        "time_start = time.time()\n",
        "print(\"Creating fighter data...\")\n",
        "fighter_details_scraper = FighterDetailsScraper()\n",
        "fighter_details_scraper.create_fighter_data_csv()\n",
        "print(f\"Elapsed time: {(time.time() - time_start):.2f} seconds\")"
      ],
      "metadata": {
        "id": "TfIuDO9JDPnM"
      },
      "execution_count": null,
      "outputs": []
    },
    {
      "cell_type": "markdown",
      "source": [
        "# Measure time elapsed for preprocessing"
      ],
      "metadata": {
        "id": "AvNyDvdgDU0u"
      }
    },
    {
      "cell_type": "code",
      "source": [
        "time_start = time.time()\n",
        "print(\"Starting preprocessing...\")\n",
        "preprocessor = Preprocessor()\n",
        "preprocessor.process_raw_data()\n",
        "print(f\"Elapsed time: {(time.time() - time_start):.3f} seconds\")"
      ],
      "metadata": {
        "id": "tfH6SEXEDW-R"
      },
      "execution_count": null,
      "outputs": []
    }
  ]
}